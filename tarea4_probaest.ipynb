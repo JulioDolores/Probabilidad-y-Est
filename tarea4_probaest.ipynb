{
 "cells": [
  {
   "cell_type": "code",
   "execution_count": 1,
   "id": "9cc6c2b3-7a56-40f9-bbdc-1c3853d106c6",
   "metadata": {},
   "outputs": [],
   "source": [
    "import numpy as np\n",
    "import pandas as pd"
   ]
  },
  {
   "cell_type": "markdown",
   "id": "ed14381f-0ca1-4f5e-954b-96b90ee3351c",
   "metadata": {},
   "source": [
    "Problema1.\\\n",
    "X es una muestra de una distribución coseno: $f(x)=C \\frac{1}{2\\pi}(1+cos(\\frac{x}{a}-b)$\n",
    "para $-\\pi<\\frac{x}{a}-b<\\pi$\n",
    "y donde C es una constante de normalización.\n",
    "\"a\" se conoce como la escala y \"b\" como la localización.\n",
    "Estima los parámetros \"a\" y \"b\" a partir de los datos y da un intervalo de confianza para ellos del 95%."
   ]
  },
  {
   "cell_type": "code",
   "execution_count": 2,
   "id": "795c6c24-2538-4e13-98a0-6b94bede599b",
   "metadata": {},
   "outputs": [],
   "source": [
    "x = np.array([ 3.8058516 ,  4.19437519,  1.37709166,  0.77009889,  5.20968912,\n",
    "        0.65358179,  3.9701773 ,  2.07495512,  3.02571317,  3.1321825 ,\n",
    "        3.10005197,  4.94755324,  2.26160675,  0.59817735,  1.19183984,\n",
    "        1.37467926, -0.61701765,  5.01024433,  3.13300185,  5.2957513 ,\n",
    "        5.49070323, -1.13532482, -0.34934039,  5.72120588,  1.23276086,\n",
    "        4.33202401,  4.00250539, -0.40665993,  1.05709082,  3.68821387,\n",
    "        1.12295318,  2.10739471,  0.53197551, -0.27389039,  1.48139076,\n",
    "        0.70014346,  2.31649553,  2.44322569,  3.86141784,  2.04558533,\n",
    "        2.98230541,  3.69456416,  2.35192256,  0.11488102,  1.24948211,\n",
    "        2.34006925,  1.45962495, -0.09042347, -0.05130358,  1.15963357,\n",
    "        0.56871108,  2.70715761,  2.47673624,  1.70400014,  1.60709535,\n",
    "       -0.40534576,  3.07910114,  0.80967033,  5.04007949,  0.11755631,\n",
    "        1.427098  , -0.07170736,  5.11381387,  3.54324208,  4.39654794,\n",
    "        0.10687046,  2.89288521,  4.23476606,  1.54499074,  2.68598353,\n",
    "       -1.02087514,  1.9960533 ,  5.24364406,  3.2185187 , -0.38242978,\n",
    "        3.49462381,  1.06077727, -0.02623431,  3.92295454,  1.48746264,\n",
    "        2.74412523, -0.29060423,  3.915251  ,  3.13072888,  3.78471126,\n",
    "       -0.26904523,  0.66725871,  2.75931047,  2.09460576,  1.15288733,\n",
    "        3.08004069,  2.51581013,  1.88470954,  3.18040196,  0.85962888,\n",
    "       -0.2126045 ,  3.2505909 ,  2.7800464 ,  1.41144019,  2.71715232])"
   ]
  },
  {
   "cell_type": "code",
   "execution_count": 3,
   "id": "68ef11c8-c97f-47fe-8e6f-c0a78604cc9a",
   "metadata": {},
   "outputs": [
    {
     "name": "stdout",
     "output_type": "stream",
     "text": [
      "a= 0.7928690803719871\n",
      "b= 1.1638940028614486\n",
      "Intervalo de confianza de a(95%): (0.7402209012200738, 0.8455172595239004)\n",
      "Intervalo de confianza de b(95%): (0.8865600428702836, 1.4412279628526137)\n"
     ]
    }
   ],
   "source": [
    "import numpy as np\n",
    "from scipy.optimize import minimize\n",
    "from scipy.stats import norm\n",
    "from scipy.optimize._numdiff import approx_derivative\n",
    "# Función de log-verosimilitud\n",
    "def log_likelihood(params):\n",
    "    a, b = params\n",
    "    f = (1 / (2 * np.pi)) * (1 + np.cos(x / a - b))\n",
    "    log_f = np.log(f + 1e-9) \n",
    "    return -np.sum(log_f) \n",
    "\n",
    "valores_i = [1, 0]\n",
    "result = minimize(log_likelihood, valores_i, method='Nelder-Mead')\n",
    "a, b = result.x\n",
    "print(\"a=\", a)\n",
    "print(\"b=\", b)\n",
    "\n",
    "def hessian(func, params):\n",
    "    return approx_derivative(\n",
    "        lambda p: approx_derivative(func, p),\n",
    "        params,\n",
    "        \n",
    "    )\n",
    "hess = hessian(log_likelihood, result.x)\n",
    "\n",
    "hessian_inv = np.linalg.inv(hess) # Aproximación de la matriz inversa de la Hessiana\n",
    "std_errors = np.sqrt(np.diag(hessian_inv))  # Errores estándar\n",
    "z_critical = norm.ppf(0.975)  # Valor crítico para 95%\n",
    "conf_intervals = [(param - z_critical * err, param + z_critical * err) for param, err in zip(result.x, std_errors)]\n",
    "\n",
    "print(f\"Intervalo de confianza de a(95%): {conf_intervals[0]}\")\n",
    "print(f\"Intervalo de confianza de b(95%): {conf_intervals[1]}\")"
   ]
  },
  {
   "cell_type": "markdown",
   "id": "368d74c3-35e2-470e-bba2-bb49d2364bc0",
   "metadata": {},
   "source": [
    "Problema 2. Con la misma secuencia de datos del problema anterior x. Imagína que no conoces la distribución de donde proviene la muestra. Estima el primer momento de la distribución $\\mu=\\bar{x}$\n",
    " (promedio) y enstima el intervalo de confianza del 95%."
   ]
  },
  {
   "cell_type": "code",
   "execution_count": 4,
   "id": "60384051-4af1-4d4a-b8fe-7d4f5f35755d",
   "metadata": {},
   "outputs": [
    {
     "name": "stdout",
     "output_type": "stream",
     "text": [
      "promedio=2.1342042433999997\n",
      "intervalo de confianza=(1.795202751766069, 2.4732057350339307)\n"
     ]
    }
   ],
   "source": [
    "import scipy.stats as stats\n",
    "\n",
    "# Paso 1: Estimar el promedio muestral\n",
    "mean_x = np.mean(x)\n",
    "\n",
    "# Paso 2: Estimar la desviación estándar muestral\n",
    "std_x = np.std(x, ddof=1)\n",
    "\n",
    "# Paso 3: Calcular el intervalo de confianza del 95%\n",
    "n = len(x)\n",
    "alpha = 0.05\n",
    "t_critical = stats.t.ppf(1 - alpha/2, df=n-1)  # Valor crítico de t de Student\n",
    "sem = std_x / np.sqrt(n)\n",
    "\n",
    "# Intervalo de confianza del 95%\n",
    "conf_interval = (mean_x - t_critical * sem, mean_x + t_critical * sem)\n",
    "\n",
    "print(f'promedio={mean_x}')\n",
    "print(f'intervalo de confianza={conf_interval}')"
   ]
  },
  {
   "cell_type": "markdown",
   "id": "e1802a66-4eb7-46f5-9e25-311f41752de4",
   "metadata": {},
   "source": [
    "Problema 3.\\\n",
    "Un fabricante farmacéutico compra materias primas de dos proveedores diferentes. El nivel medio de impurezas es aproximadamente el mismo para ambos proveedores, pero el fabricante está preocupado por la variabilidad en la cantidad de impurezas de entre un embarque y otro. Si el nivel de impurezas tiende a variar en forma excesiva de una fuente de abastecimiento, esto podría afectar la calidad del producto final. Para comparar la variación en el porcentaje de impurezas para los dos proveedores, el fabricante selecciona diez envíos de cada uno de ellos y mide el porcentaje de impurezas de cada envío. Las varianzas muestrales fueron $\\sigma^{2}_{1}$ = .273 y $\\sigma^{2}_2$ 2 = .094 respectivamente. Forme un intervalo de confianza de 95% para la relación entre las varianzas poblacionales reales.\n",
    "\n"
   ]
  },
  {
   "cell_type": "code",
   "execution_count": 5,
   "id": "b141e7c9-bd3c-4fc6-aaa1-da74b57fef80",
   "metadata": {},
   "outputs": [
    {
     "name": "stdout",
     "output_type": "stream",
     "text": [
      "El intervalo de confianza es: (0.7213759396977254, 11.692514949055882)\n"
     ]
    }
   ],
   "source": [
    "import scipy.stats as stats\n",
    "s1 = 0.273\n",
    "s2 = 0.094\n",
    "n=10\n",
    "alpha = 0.05\n",
    "\n",
    "F_obs = s1 / s2\n",
    "\n",
    "# Grados de libertad\n",
    "df1 = n - 1\n",
    "df2 = n - 1\n",
    "\n",
    "F_c1= stats.f.ppf(alpha / 2, df1, df2)\n",
    "F_c2= stats.f.ppf(1 - alpha / 2, df1, df2)\n",
    "\n",
    "IC_1 = F_obs / F_c1\n",
    "IC_2 = F_obs / F_c2\n",
    "\n",
    "\n",
    "print(f'El intervalo de confianza es: {IC_2, IC_1}')\n"
   ]
  },
  {
   "cell_type": "markdown",
   "id": "04876872-d420-4c94-8f34-2e6355c477d3",
   "metadata": {},
   "source": [
    "Problema4. Una encuesta a 415 ejecutivos corporativos, de gobierno y contadores de la Financial Accounting Foundation encontró que 278 consideraban el flujo de caja (lo contrario de ganancias por acción, etc.) como el indicador más importante de la salud financiera de una compañía. Suponga que estos 415 ejecutivos constituyen una muestra aleatoria de la población de todos los ejecutivos. Use los datos para hallar un intervalo de confianza de 95% para la fracción de todos los ejecutivos corporativos que consideran que el flujo de caja es la medida más importante de la salud financiera de una compañía."
   ]
  },
  {
   "cell_type": "code",
   "execution_count": 6,
   "id": "94f769ba-0305-44a9-ae8b-9ccaa1d36375",
   "metadata": {},
   "outputs": [
    {
     "name": "stdout",
     "output_type": "stream",
     "text": [
      "El intervalo de confianza es: (0.6246357645805987, 0.7151232715639797)\n"
     ]
    }
   ],
   "source": [
    "import math\n",
    "\n",
    "ejecutivos = 415  \n",
    "x = 278  \n",
    "n_conf = 0.95 \n",
    "\n",
    "p_hat = x / ejecutivos\n",
    "\n",
    "alpha_4 = 1 - n_conf\n",
    "\n",
    "# Z crítico para el intervalo de confianza del 95%\n",
    "z_critico = stats.norm.ppf(1 - alpha_4 / 2)\n",
    "\n",
    "# Error estándar de la proporción\n",
    "standard_error = math.sqrt((p_hat * (1 - p_hat)) / ejecutivos)\n",
    "\n",
    "# Intervalo de confianza para la proporción\n",
    "IC_lower = p_hat - z_critico * standard_error\n",
    "IC_upper = p_hat + z_critico * standard_error\n",
    "\n",
    "print(f'El intervalo de confianza es: {IC_lower, IC_upper}')\n"
   ]
  },
  {
   "cell_type": "markdown",
   "id": "a06c5eec-6c55-41aa-9692-8dfd45122171",
   "metadata": {},
   "source": [
    "Problema5. Se sabe que la probabilidad p de obtener una cara al lanzar al aire una moneda desbalanceada es 1/ 4 o 3/ 4. La moneda es lanzada dos veces al aire y se observa un valor para Y, el número de caras. Para cada valor posible de Y, ¿cuál de los dos valores para p (1/ 4 o 3/ 4) maximiza la probabilidad de que Y = y? Dependiendo del valor de y observado realmente, En otras palabras ¿cuál es el MLE de p?\n",
    "\n"
   ]
  },
  {
   "cell_type": "code",
   "execution_count": 7,
   "id": "b594a360-320e-413f-90b3-51caf25a2769",
   "metadata": {},
   "outputs": [
    {
     "name": "stdout",
     "output_type": "stream",
     "text": [
      "Probabilidades calculadas {0.25: {0: 0.5625, 1: 0.375, 2: 0.0625}, 0.75: {0: 0.0625, 1: 0.375, 2: 0.5625}}\n",
      "El estimador de máxima verosimilitud para p=0 es: 0.25\n",
      "El estimador de máxima verosimilitud para p=1 es: ambos son iguales (1/4 o 3/4)\n",
      "El estimador de máxima verosimilitud para p=2 es: 0.75\n"
     ]
    }
   ],
   "source": [
    "from scipy.special import comb\n",
    "p_values = [1/4, 3/4]\n",
    "y_values = [0, 1, 2]\n",
    "\n",
    "probabilidades = {}\n",
    "for p in p_values:\n",
    "    probabilidades[p] = {}\n",
    "    for y in y_values:\n",
    "        probabilidades[p][y] = comb(2, y) * (p ** y) * ((1 - p) ** (2 - y))\n",
    "print(f'Probabilidades calculadas {probabilidades}')\n",
    "\n",
    "for i in y_values:\n",
    "    if i == 0:\n",
    "        p_mle = 1/4  # MLE es p = 1/4 porque P(Y=0 | p=1/4) es mayor\n",
    "    elif i== 1:\n",
    "        p_mle = \"ambos son iguales (1/4 o 3/4)\"  # MLE es indefinido porque P(Y=1 | p=1/4) = P(Y=1 | p=3/4)\n",
    "    elif i == 2:\n",
    "        p_mle = 3/4  # MLE es p = 3/4 porque P(Y=2 | p=3/4) es mayor\n",
    "    print(f\"El estimador de máxima verosimilitud para p={y_values[i]} es:\", p_mle)"
   ]
  },
  {
   "cell_type": "markdown",
   "id": "3687b307-745e-4cbd-97d1-58e56c1d189b",
   "metadata": {},
   "source": [
    "Problema6.\\\n",
    "Un examen de lectura se aplica a alumnos de sexto año en tres grandes escuelas primarias. Se considera que las calificaciones del examen en cada escuela tienen distribuciones normales con medias desconocidas $\\mu_{1},\\mu_{2},\\mu_{3}$, respectivamente, y varianza común desconocida $\\sigma^{2}(\\sigma^{2}_{1}=\\sigma^{2}_{2}=\\sigma^{2}_{3}=\\sigma^{2})$\n",
    "Usando los datos de la tabla siguiente en muestras aleatorias independientes de cada escuela, pruebe si existe evidencia de una diferencia entre m1 y m2. Use a = .05."
   ]
  },
  {
   "cell_type": "code",
   "execution_count": 8,
   "id": "7a28bfb6-9e97-4d5b-9918-ebedcb8b26e0",
   "metadata": {},
   "outputs": [
    {
     "name": "stdout",
     "output_type": "stream",
     "text": [
      "    N  Varianza sum  Media   Escuela\n",
      "0  10         36950     60  Escuela1\n",
      "1  10         25850     50  Escuela2\n",
      "2  10         49900     70  Escuela3\n",
      "T=2.23606797749979\n",
      "t_critica=2.10092204024096\n",
      "Se rechaza la hipótesis nula en favor de la alternativa.\n"
     ]
    }
   ],
   "source": [
    "##Hipotesis nula: µ1=µ2\n",
    "##Hipotesis alternativa: µ1≠µ2 \n",
    "escuelas={}\n",
    "escuelas['N']=[10,10,10]\n",
    "escuelas['Varianza sum']=[36950,25850,49900]\n",
    "escuelas['Media']=[60,50,70]\n",
    "escuelas['Escuela']=['Escuela1','Escuela2','Escuela3']\n",
    "escuelas1=pd.DataFrame(escuelas)\n",
    "escuelas1.set_index('Escuela')\n",
    "print(escuelas1)\n",
    "import math\n",
    "\n",
    "# Varianzas muestrales\n",
    "s1_sq = (escuelas['Varianza sum'][0]- escuelas['N'][0] * escuelas['Media'][0]**2) / (escuelas['N'][0] - 1)\n",
    "s2_sq = (escuelas['Varianza sum'][1] -escuelas['N'][1]* escuelas['Media'][1]**2) / (escuelas['N'][1] - 1)\n",
    "s3_sq = (escuelas['Varianza sum'][2] -escuelas['N'][2]* escuelas['Media'][2]**2) / (escuelas['N'][2] - 1)\n",
    "\n",
    "# Varianza común\n",
    "S_sq = math.sqrt(((escuelas['N'][0] - 1) * s1_sq + (escuelas['N'][1] - 1) * s2_sq + (escuelas['N'][2] - 1) * s3_sq) / (escuelas['N'][0] + escuelas['N'][1] + escuelas['N'][2] - 3))\n",
    "\n",
    "# Estadístico t\n",
    "t_stat = (escuelas['Media'][0] - escuelas['Media'][1]) / (S_sq*math.sqrt(1/10 + 1/10))\n",
    "\n",
    "# Estadístico t\n",
    "#t_stat = (escuelas1['Varianza'][0] - escuelas1['Varianza'][2]) / math.sqrt(sp_squared * (1 / escuelas1['N'][0] + 1 / escuelas1['N'][1]))\n",
    "\n",
    "# Grados de libertad\n",
    "df = escuelas1['N'][0] + escuelas1['N'][1] - 2\n",
    "from scipy.stats import t\n",
    "\n",
    "# Nivel de significancia y grados de libertad\n",
    "alpha = 0.05\n",
    "t_critical = t.ppf(1 - alpha / 2, df) \n",
    "print(f'T={t_stat}')\n",
    "print(f't_critica={t_critical}')\n",
    "\n",
    "if abs(t_stat) > t_critical :\n",
    "    print('Se rechaza la hipótesis nula en favor de la alternativa.')\n",
    "else:\n",
    "    print('No se rechaza la hipótesis nula. No hay evidencia suficiente para decir que existe diferencia entre las medias µ1 y µ2.')\n",
    "\n",
    "\n"
   ]
  },
  {
   "cell_type": "markdown",
   "id": "da9acd9f-7386-4e2e-b401-9b0f37b9890b",
   "metadata": {},
   "source": [
    "Problema7.\\\n",
    "¿Qué eficiencia de combustión debe esperar el propietario de una casa de un horno de petróleo? La EPA indica que 80% o más es excelente, 75% a 79% es buena, 70% a 74% es regular y debajo de 70% es mala. Un contratista de sistemas de calefacción doméstica, que vende dos marcas de calentadores de petróleo (llamémosles A y B) decidió comparar sus eficiencias medias al analizar las eficiencias de 8 calentadores del tipo A y 6 del tipo B. Los porcentajes de eficiencia resultantes para los 14 calentadores se muestran en la tabla siguiente.\n",
    "\n",
    "Tipo A 72 78 73 69 75 74 69 75\n",
    "\n",
    "Tipo B 78 76 81 74 82 75\n",
    "\n",
    "a ¿Los datos proporcionan suficiente evidencia para indicar una diferencia en las eficiencias medias para las dos marcas de calentadores domésticos? Encuentre el valor p aproximado para la prueba e interprete su valor.\n",
    "\n",
    "b Determine un intervalo de confianza de 90% para (mA − mB) e interprete el resultado.\n",
    "\n"
   ]
  },
  {
   "cell_type": "code",
   "execution_count": 9,
   "id": "21144a68-fed1-45ea-890c-8285d591a742",
   "metadata": {},
   "outputs": [
    {
     "name": "stdout",
     "output_type": "stream",
     "text": [
      "Media A=73.125\n",
      "Media B=77.66666666666667\n",
      "T estadistico=-2.6570222560464254\n",
      "p valor=0.02090610848643453\n",
      "Intervalo de confianza de 90% para (mA − mB)=(-7.588143211410063, -1.49519012192328)\n",
      "Como p valor es menor que 0.05, rechazamos la hipotesis nula indicando que hay diferencia entre las eficiencias medias de los calentadores\n"
     ]
    }
   ],
   "source": [
    "tipo_a=([72,78,73,69,75,74,69,75])\n",
    "tipo_b=([78,76,81,74,82,75])\n",
    "\n",
    "###Hipotesis nula: µ1=µ2\n",
    "###hipotesis alternativa: µ1≠µ2\n",
    "\n",
    "n_a = len(tipo_a)\n",
    "n_b = len(tipo_b)\n",
    "mean_a = np.mean(tipo_a)\n",
    "mean_b = np.mean(tipo_b)\n",
    "var_a = np.var(tipo_a, ddof=1)  \n",
    "var_b = np.var(tipo_b, ddof=1) \n",
    "\n",
    "sp_squared = ((n_a - 1) * var_a + (n_b - 1) * var_b) / (n_a + n_b - 2)\n",
    "\n",
    "t_stat = (mean_a - mean_b) / np.sqrt(sp_squared * (1 / n_a + 1 / n_b))\n",
    "\n",
    "df = n_a + n_b - 2\n",
    "\n",
    "p_value = 2 * t.cdf(-abs(t_stat), df)\n",
    "\n",
    "alpha = 0.10\n",
    "t_critical = t.ppf(1 - alpha / 2, df)\n",
    "margin_of_error = t_critical * np.sqrt(sp_squared * (1 / n_a + 1 / n_b))\n",
    "ci_lower = (mean_a - mean_b) - margin_of_error\n",
    "ci_upper = (mean_a - mean_b) + margin_of_error\n",
    "\n",
    "\n",
    "print(f'Media A={mean_a}')\n",
    "print(f'Media B={mean_b}')\n",
    "print(f'T estadistico={t_stat}')\n",
    "print(f'p valor={p_value}')\n",
    "print(f'Intervalo de confianza de 90% para (mA − mB)={(ci_lower, ci_upper)}')\n",
    "\n",
    "print('Como p valor es menor que 0.05, rechazamos la hipotesis nula indicando que hay diferencia entre las eficiencias medias de los calentadores')"
   ]
  },
  {
   "cell_type": "markdown",
   "id": "87c1d436-be78-456f-8c0f-18fe251c154a",
   "metadata": {},
   "source": [
    "Problema 8\\\n",
    "Los datos de la siguiente tabla muestran lecturas en pies-libras de la resistencia al impacto de dos clases de material de empaque, tipo A y tipo B. Determine si la información sugiere una diferencia en la resistencia media entre las dos clases de material. Realice la prueba con un nivel de significancia a = .10."
   ]
  },
  {
   "cell_type": "code",
   "execution_count": 10,
   "id": "a1343cbc-f2aa-41af-8773-ea8829d2c5e0",
   "metadata": {},
   "outputs": [
    {
     "name": "stdout",
     "output_type": "stream",
     "text": [
      "Estadístico t: 9.564131954889964\n",
      "t_crit: 1.74588367627624\n",
      "No rechazamos la hipótesis nula: no hay evidencia suficiente para afirmar una diferencia significativa en las resistencias medias.\n"
     ]
    }
   ],
   "source": [
    "from scipy.stats import ttest_ind\n",
    "tabla8={}\n",
    "tabla8['A']=[\n",
    "1.25,   \n",
    "1.16,  \n",
    "1.33, \n",
    "1.15,   \n",
    "1.23,   \n",
    "1.20,   \n",
    "1.32,  \n",
    "1.28,   \n",
    "1.21]  \n",
    "tabla8['B']=[0.89,1.01,0.97,0.95,0.94,1.02,0.98,1.06,0.98]\n",
    "t_stat,p_value = ttest_ind(tabla8['A'], tabla8['B'], equal_var=True)  \n",
    "n_A, n_B = len(tabla8['A']), len(tabla8['B'])\n",
    "# Grados de libertad\n",
    "df = n_A + n_B - 2\n",
    "t_crit = t.ppf(1 - alpha/2, df)  # Nivel de confianza del 90%\n",
    "alpha=0.1\n",
    "print(f\"Estadístico t: {t_stat}\")\n",
    "print(f\"t_crit: {t_crit}\")\n",
    "\n",
    "if t_crit < alpha:\n",
    "    print(\"Rechazamos la hipótesis nula: hay una diferencia significativa en las resistencias medias.\")\n",
    "else:\n",
    "    print(\"No rechazamos la hipótesis nula: no hay evidencia suficiente para afirmar una diferencia significativa en las resistencias medias.\")\n"
   ]
  },
  {
   "cell_type": "markdown",
   "id": "4866b12a-5acc-455a-bbe7-0aef164e1b7d",
   "metadata": {},
   "source": [
    "Problema 9.\\\n",
    "Los datos de la siguiente tabla proporcionan las millas por galón recorridas por un automóvil de prueba cuando utiliza gasolinas de niveles variables de octanaje. Millas por galón (y)   Octano (x)\\\n",
    "a Calcule el valor de r.\n",
    "\n",
    "b ¿Los datos dan suficiente evidencia para indicar que el nivel de octanaje y las millas por galón son dependientes? Obtenga el nivel de significancia alcanzado, e indique su conclusión si desea realizar una prueba en el nivel de a = .05.\n"
   ]
  },
  {
   "cell_type": "code",
   "execution_count": 11,
   "id": "85bb3cd5-63d3-4e91-9743-16c9bac518f5",
   "metadata": {},
   "outputs": [
    {
     "name": "stdout",
     "output_type": "stream",
     "text": [
      "{'Octano': [89, 93, 87, 90, 89, 95, 100, 98], 'Millas': [13.0, 13.2, 13.0, 13.6, 13.3, 13.8, 14.1, 14.0]}\n",
      "El coeficiente de correlación es:0.8914018631719386\n",
      "El p valor es: 0.002946769695083118\n",
      "Estadístico t: 4.817770069955905\n",
      "t_crit: 2.1199052992210112\n",
      "Rechazamos la hipótesis nula.El nivel de octanaje y las millas por galón están correlacionados.\n"
     ]
    }
   ],
   "source": [
    "tabla9={}\n",
    "tabla9['Octano']=[89,93,87,90,89,95,100,98]\n",
    "tabla9['Millas']=[13.0,13.2,13.0,13.6,13.3,13.8,14.1,14.0]\n",
    "print(tabla9)\n",
    "\n",
    "###Prueba de hipotesis\n",
    "###H_nula: p=0\n",
    "###H_alternativa: p≠0\n",
    "import numpy as np\n",
    "from scipy.stats import t\n",
    "\n",
    "r = np.corrcoef(tabla9['Octano'], tabla9['Millas'])[0, 1]\n",
    "alpha9=0.05\n",
    "\n",
    "# Prueba de hipótesis\n",
    "n = len(tabla9['Octano'])\n",
    "t_stat = r * np.sqrt((n - 2) / (1 - r**2))  # Estadístico t\n",
    "p_value = 2 * (1 - t.cdf(abs(t_stat), df=n-2))  # p-valor\n",
    "t_crit = t.ppf(1 - alpha9/2, df)\n",
    "\n",
    "print(f'El coeficiente de correlación es:{r}')\n",
    "print(f'El p valor es: {p_value}')\n",
    "print(f\"Estadístico t: {t_stat}\")\n",
    "print(f\"t_crit: {t_crit}\")\n",
    "\n",
    "if p_value<alpha9:\n",
    "    print('Rechazamos la hipótesis nula.El nivel de octanaje y las millas por galón están correlacionados.')\n"
   ]
  },
  {
   "cell_type": "markdown",
   "id": "70a2b2f3-185b-4508-b894-63bc884cfca8",
   "metadata": {},
   "source": [
    "Problema 10.\\\n",
    "Se realizó un experimento para determinar el efecto de presión y temperatura en el rendimiento de una sustancia química. Se emplearon dos niveles de presión (en libras por pulgada cuadrada, psi) y tres de temperatura:\n",
    "\n",
    "Presión: 50 , 80 Temperatura (F) : 100, 200, 300\n",
    "\n",
    "Una prueba del experimento en cada combinación de temperatura-presión dio como resultado los datos que aparecen en la siguiente tabla.\\\n",
    "a) Ajuste el modelo $Y=\\beta_{0}+\\beta_{1}x_{1}+\\beta_{2}x_{2}+\\beta_{3}x_{2}^{2}+\\epsilon$ ,donde  $x_{1}$= presión y  $x_{2}$= temperatura.\n",
    "\n",
    "b Compruebe si $\\beta_{3}$difiere considerablemente de cero, con  $\\alpha$ = .05.\n",
    "\n",
    "c Pruebe la hipótesis de que la temperatura no afecta el rendimiento, con $\\alpha$ = .05."
   ]
  },
  {
   "cell_type": "code",
   "execution_count": 19,
   "id": "5ded3197-5c7f-40b2-8b19-1f64b5212e73",
   "metadata": {},
   "outputs": [
    {
     "name": "stdout",
     "output_type": "stream",
     "text": [
      "Coeficientes estimados (beta): [ 2.03333333e+01  3.33333333e-02 -2.25000000e-02  1.25000000e-04]\n",
      "t-stat: 2.0412\n",
      "t-crit: 4.3027\n",
      "p-value: 0.1780\n",
      "No hay suficiente evidencia para rechazar H0, por lo que no podemos afirmar que beta3 difiera considerablemente de 0\n",
      "Estadístico F: 32.3333\n",
      "p-valor: 0.0300\n",
      "Rechazamos la hipotesis nula: La temperatura afecta significativamente el rendimiento.\n"
     ]
    }
   ],
   "source": [
    "import numpy as np\n",
    "from scipy.stats import f\n",
    "\n",
    "# Datos\n",
    "Y = np.array([21, 23, 26, 22, 23, 28])  # Rendimiento\n",
    "X = np.array([\n",
    "    [1, 50, 100, 100**2],\n",
    "    [1, 50, 200, 200**2],\n",
    "    [1, 50, 300, 300**2],\n",
    "    [1, 80, 100, 100**2],\n",
    "    [1, 80, 200, 200**2],\n",
    "    [1, 80, 300, 300**2],\n",
    "])\n",
    "# Estimación de beta\n",
    "X_transpose = X.T\n",
    "beta_hat = np.linalg.inv(X_transpose @ X) @ X_transpose @ Y\n",
    "\n",
    "print(f\"Coeficientes estimados (beta): {beta_hat}\")\n",
    "# Residuales y estimación de sigma^2\n",
    "Y_hat = X @ beta_hat\n",
    "residuals = Y - Y_hat\n",
    "sigma_squared = np.sum(residuals**2) / (len(Y) - X.shape[1])\n",
    "\n",
    "# Matriz de varianza de beta\n",
    "var_beta = sigma_squared * np.linalg.inv(X_transpose @ X)\n",
    "\n",
    "# Vector a para probar si beta3 son 0\n",
    "a = np.array([0, 0, 0, 1])\n",
    "\n",
    "# Cálculo del estadístico t\n",
    "numerador = a.T @ beta_hat\n",
    "denominador = np.sqrt(a.T @ var_beta @ a)\n",
    "t_stat = numerador / denominador\n",
    "\n",
    "# Grados de libertad y p-valor\n",
    "df = len(Y) - X.shape[1]\n",
    "alpha=0.05\n",
    "t_crit = t.ppf(1 - alpha/2, df)  # Nivel de confianza del 95%\n",
    "\n",
    "p_value = 2 * (1 - t.cdf(abs(t_stat), df=df))\n",
    "# Resultado\n",
    "\n",
    "print(f\"t-stat: {t_stat:.4f}\")\n",
    "print(f\"t-crit: {t_crit:.4f}\")\n",
    "print(f\"p-value: {p_value:.4f}\")\n",
    "print(\"No hay suficiente evidencia para rechazar H0, por lo que no podemos afirmar que beta3 difiera considerablemente de 0\")\n",
    "\n",
    "\n",
    "# Modelo restringido (sin temperatura)\n",
    "X_restricted = np.array([\n",
    "    [1, 50],  # Solo intercepto y presión\n",
    "    [1, 50],\n",
    "    [1, 50],\n",
    "    [1, 80],\n",
    "    [1, 80],\n",
    "    [1, 80],\n",
    "])\n",
    "\n",
    "# Ajuste de ambos modelos\n",
    "beta_full = np.linalg.inv(X.T @ X) @ X.T @ Y\n",
    "beta_restricted = np.linalg.inv(X_restricted.T @ X_restricted) @ X_restricted.T @ Y\n",
    "\n",
    "# Predicciones\n",
    "Y_hat_full = X @ beta_full\n",
    "Y_hat_restricted = X_restricted @ beta_restricted\n",
    "\n",
    "# Sumas de cuadrados\n",
    "SSR_restricted = np.sum((Y - Y_hat_restricted)**2)  # Suma de cuadrados del modelo restringido\n",
    "SSR_full = np.sum((Y - Y_hat_full)**2)  # Suma de cuadrados del modelo completo\n",
    "\n",
    "# Grados de libertad\n",
    "n = len(Y)  # Número de observaciones\n",
    "p_full = X.shape[1]  # Número de parámetros en el modelo completo\n",
    "p_restricted = X_restricted.shape[1]  # Número de parámetros en el modelo restringido\n",
    "q = p_full - p_restricted  # Número de restricciones\n",
    "df_error = n - p_full  # Grados de libertad residuales del modelo completo\n",
    "\n",
    "# Estadístico F\n",
    "F_stat = ((SSR_restricted - SSR_full) / q) / (SSR_full / df_error)\n",
    "\n",
    "# p-valor\n",
    "p_value = 1 - f.cdf(F_stat, dfn=q, dfd=df_error)\n",
    "\n",
    "print(f\"Estadístico F: {F_stat:.4f}\")\n",
    "print(f\"p-valor: {p_value:.4f}\")\n",
    "\n",
    "\n",
    "alpha = 0.05\n",
    "if p_value < alpha:\n",
    "    print(\"Rechazamos la hipotesis nula: La temperatura afecta significativamente el rendimiento.\")\n",
    "else:\n",
    "    print(\"No podemos rechazar H0: No hay evidencia suficiente para decir que la temperatura afecta el rendimiento.\")"
   ]
  },
  {
   "cell_type": "markdown",
   "id": "20dc2f7d-0326-4ec8-a69b-c9cd6254f797",
   "metadata": {},
   "source": [
    "Problema11. \\\n",
    "Los datos de la siguiente tabla provienen de la comparación de los porcentajes de crecimiento para bacterias tipos A y B. El crecimiento Y registrado en cinco puntos igualmente espaciados (y codificados) de tiempo se muestra en la tabla.\n",
    "\n",
    "Tiempo codificado : -2, -1, 0 , 1, 2\n",
    "Bacteria A : 8.0, 9.0, 9.1 , 10.2, 10.4\n",
    "Bacteria B : 10.0, 10.3, 12.2, 12.6, 13.9\n",
    "\n",
    "a Ajuste el modelo lineal $Y=\\beta_{0}+\\beta_{1}x_{1}+\\beta_{2}x_{2}+\\beta_{3}x_{2}+\\epsilon$\n",
    " a los n = 10 puntos. Sea $x_1$= 1 si el punto se refiere a bacterias tipo B y sea $x_1$ = 0 si el punto se refiere al tipo A. Sea \n",
    "$x_2$= tiempo codificado.\n",
    "\n",
    "b Grafique los puntos y las dos rectas de crecimiento. Observe que b3 es la diferencia entre las pendientes de las dos rectas y representa la interacción tiempo-bacteria.\n",
    "\n",
    "c Prediga el crecimiento del tipo A en el tiempo $x_2$= 0 y compare la respuesta con la gráfica. Repita el proceso para el tipo B.\n",
    "\n",
    "d ¿Los datos presentan suficiente evidencia para indicar una diferencia en los porcentajes de crecimiento para los dos tipos de bacteria?"
   ]
  },
  {
   "cell_type": "code",
   "execution_count": 13,
   "id": "cd982d95-6b12-4171-8237-87b916dbfdeb",
   "metadata": {},
   "outputs": [
    {
     "data": {
      "image/png": "[encoded data removed]",
      "text/plain": [
       "<Figure size 800x600 with 1 Axes>"
      ]
     },
     "metadata": {},
     "output_type": "display_data"
    },
    {
     "name": "stdout",
     "output_type": "stream",
     "text": [
      "Predicción para Bacteria A en x2=0: 9.34\n",
      "El valor para Bacteria A en x2 = 0: 9.1\n",
      "Predicción para Bacteria B en x2=0: 11.80\n",
      "El valor para Bacteria A en x2 = 0: 12.2\n"
     ]
    }
   ],
   "source": [
    "import numpy as np\n",
    "import pandas as pd\n",
    "import statsmodels.formula.api as smf\n",
    "import matplotlib.pyplot as plt\n",
    "tiempo = np.array([-2, -1, 0, 1, 2, -2, -1, 0, 1, 2])\n",
    "crecimiento = np.array([8.0, 9.0, 9.1, 10.2, 10.4, 10.0, 10.3, 12.2, 12.6, 13.9])\n",
    "bacteria = np.array([0, 0, 0, 0, 0, 1, 1, 1, 1, 1])  # 0 para tipo A, 1 para tipo B\n",
    "interaccion = bacteria * tiempo  # Término de interacción\n",
    "data = pd.DataFrame({\n",
    "    \"Crecimiento\": crecimiento,\n",
    "    \"Tiempo\": tiempo,\n",
    "    \"Bacteria\": bacteria,\n",
    "    \"Interaccion\": interaccion\n",
    "})\n",
    "modelo = smf.ols(\"Crecimiento ~ Bacteria + Tiempo + Interaccion\", data=data).fit()\n",
    "\n",
    "tiempo_pred = np.linspace(-2, 2, 100)\n",
    "pred_a = modelo.params[\"Intercept\"] + modelo.params[\"Tiempo\"] * tiempo_pred\n",
    "pred_b = (\n",
    "    modelo.params[\"Intercept\"]\n",
    "    + modelo.params[\"Bacteria\"]\n",
    "    + modelo.params[\"Tiempo\"] * tiempo_pred\n",
    "    + modelo.params[\"Interaccion\"] * tiempo_pred\n",
    ")\n",
    "\n",
    "plt.figure(figsize=(8, 6))\n",
    "plt.scatter(tiempo[data[\"Bacteria\"] == 0], crecimiento[data[\"Bacteria\"] == 0], label=\"Bacteria A\", color=\"blue\")\n",
    "plt.scatter(tiempo[data[\"Bacteria\"] == 1], crecimiento[data[\"Bacteria\"] == 1], label=\"Bacteria B\", color=\"red\")\n",
    "plt.plot(tiempo_pred, pred_a, label=\"Crecimiento Bacteria A\", color=\"blue\")\n",
    "plt.plot(tiempo_pred, pred_b, label=\"Crecimiento Bacteria B\", color=\"red\")\n",
    "plt.axvline(0, color=\"gray\", linestyle=\"--\", label=\"x2 = 0\")\n",
    "plt.title(\"Crecimiento de Bacterias A y B\")\n",
    "plt.xlabel(\"Tiempo codificado\")\n",
    "plt.ylabel(\"Crecimiento\")\n",
    "plt.legend()\n",
    "plt.show()\n",
    "pred_a_0 = modelo.params[\"Intercept\"]\n",
    "pred_b_0 = modelo.params[\"Intercept\"] + modelo.params[\"Bacteria\"]\n",
    "\n",
    "print(f\"Predicción para Bacteria A en x2=0: {pred_a_0:.2f}\")\n",
    "print(\"El valor para Bacteria A en x2 = 0:\", crecimiento[2])\n",
    "print(f\"Predicción para Bacteria B en x2=0: {pred_b_0:.2f}\")\n",
    "print(\"El valor para Bacteria A en x2 = 0:\", crecimiento[7])\n"
   ]
  },
  {
   "cell_type": "code",
   "execution_count": 16,
   "id": "751e6c53-599b-4566-a00f-12b5dfd768a8",
   "metadata": {},
   "outputs": [
    {
     "name": "stdout",
     "output_type": "stream",
     "text": [
      "Estimación de beta: [ 2.03333333e+01  3.33333333e-02 -2.25000000e-02  1.25000000e-04]\n",
      "Varianza de beta: \n",
      "[[ 2.10493827e+00 -8.02469136e-03 -1.75000000e-02  4.16666667e-05]\n",
      " [-8.02469136e-03  1.23456790e-04 -1.75442651e-18  1.71330714e-21]\n",
      " [-1.75000000e-02 -0.00000000e+00  2.04166667e-04 -5.00000000e-07]\n",
      " [ 4.16666667e-05  0.00000000e+00 -5.00000000e-07  1.25000000e-09]]\n",
      "t-stat: 3.5355\n",
      "t-crit: 2.4469\n",
      "p-value: 0.0123\n",
      "Se rechaza la hipótesis nula: hsy diferencia en el crecimiento de bacterias\n"
     ]
    }
   ],
   "source": [
    "X_transpose = X.T\n",
    "beta_hat = np.linalg.inv(X_transpose @ X) @ X_transpose @ Y\n",
    "\n",
    "y_hat = X @ beta_hat\n",
    "residuals = Y - y_hat\n",
    "sigma_squared = np.sum(residuals**2) / (len(crecimiento) - X.shape[1])\n",
    "\n",
    "var_beta = sigma_squared * np.linalg.inv(X_transpose @ X)\n",
    "\n",
    "# Vector a para probar si beta3 es 0\n",
    "a = np.array([0, 0, 0, 1])\n",
    "\n",
    "# Cálculo del estadístico t\n",
    "numerador = a.T @ beta_hat\n",
    "denominador = np.sqrt(a.T @ var_beta @ a)\n",
    "t_stat = numerador / denominador\n",
    "\n",
    "# Grados de libertad y valor crítico\n",
    "df = len(crecimiento) - X.shape[1]\n",
    "alpha = 0.05\n",
    "t_crit = t.ppf(1 - alpha / 2, df)\n",
    "\n",
    "# Valor p\n",
    "p_value = 2 * (1 - t.cdf(abs(t_stat), df=df))\n",
    "\n",
    "# Resultados\n",
    "print(f\"Estimación de beta: {beta_hat}\")\n",
    "print(f\"Varianza de beta: \\n{var_beta}\")\n",
    "print(f\"t-stat: {t_stat:.4f}\")\n",
    "print(f\"t-crit: {t_crit:.4f}\")\n",
    "print(f\"p-value: {p_value:.4f}\")\n",
    "\n",
    "# Interpretación\n",
    "if abs(t_stat) > t_crit:\n",
    "    print(\"Se rechaza la hipótesis nula: hsy diferencia en el crecimiento de bacterias\")\n",
    "else:\n",
    "    print(\"No se rechaza la hipótesis nula: no se afirma crecimiento de las bacterias\")"
   ]
  },
  {
   "cell_type": "markdown",
   "id": "4654f49e-f61b-423b-be7a-0e0f472deb0a",
   "metadata": {},
   "source": [
    "Problema12.\\\n",
    "Supongamos que deseas analizar la diferencia en las calificaciones obtenidas por tres grupos de estudiantes en un examen de matemáticas. Los grupos son: \"Grupo A\", \"Grupo B\" y \"Grupo C\". Tienes los datos de las calificaciones obtenidas por cada estudiante en un archivo CSV llamado \"calificaciones.csv\".\n",
    "\n",
    "Haz una prueba Anova para ver si hay diferencia en calificaciones de los tres grupos."
   ]
  },
  {
   "cell_type": "code",
   "execution_count": 17,
   "id": "15cd26c2-7482-4d74-a2e8-e6e222a1aa53",
   "metadata": {},
   "outputs": [
    {
     "name": "stdout",
     "output_type": "stream",
     "text": [
      "Estadístico F: 0.0175\n",
      "P-valor: 0.8973\n",
      "No rechazamos la hipótesis nula: no hay evidencia suficiente para afirmar diferencias significativas.\n"
     ]
    }
   ],
   "source": [
    "import pandas as pd\n",
    "from scipy.stats import f_oneway\n",
    "datos = pd.read_csv('datos.csv')\n",
    "grupo_a = datos[datos[\"Grupo\"] == \"Grupo A\"][\"Datos\"]\n",
    "grupo_b = datos[datos[\"Grupo\"] == \"Grupo B\"][\"Datos\"]\n",
    "###grupo_c = datos[datos[\"Grupo\"] == \"Grupo C\"][\"Calificacion\"], no hay grupo C\n",
    "f_stat, p_value = f_oneway(grupo_a, grupo_b)\n",
    "alpha = 0.05\n",
    "print(f\"Estadístico F: {f_stat:.4f}\")\n",
    "print(f\"P-valor: {p_value:.4f}\")\n",
    "\n",
    "if p_value < alpha:\n",
    "    print(\"Rechazamos la hipótesis nula: hay diferencias significativas entre las calificaciones de los grupos.\")\n",
    "else:\n",
    "    print(\"No rechazamos la hipótesis nula: no hay evidencia suficiente para afirmar diferencias significativas.\")\n",
    "\n"
   ]
  },
  {
   "cell_type": "markdown",
   "id": "b2f9d0e5-f6e5-46bc-84b4-bdc1a8166396",
   "metadata": {},
   "source": [
    "Problema 13.\\\n",
    "Supongamos que tienes dos grupos de datos: \"Grupo A\" y \"Grupo B\", y deseas determinar si hay una diferencia significativa entre las medianas de ambos grupos. No sabes si los datos provienene de distribución normal.\n",
    "\n",
    "a) Has una prueba gráfica y una prueba de hipótesis para saber si los datos tienen una distribución normal para ambos grupos.\n",
    "\n",
    "b) Emplea estadística no paramétrica para probar si hay diferencia significativa en la mediana entre ambos grupos.\n",
    "\n",
    "Los datos están en el archivo datos.csv"
   ]
  },
  {
   "cell_type": "code",
   "execution_count": 18,
   "id": "f382b747-0338-4575-9553-e215e412542a",
   "metadata": {},
   "outputs": [
    {
     "data": {
      "image/png": "[encoded data removed]",
      "text/plain": [
       "<Figure size 1200x600 with 4 Axes>"
      ]
     },
     "metadata": {},
     "output_type": "display_data"
    },
    {
     "name": "stdout",
     "output_type": "stream",
     "text": [
      "Prueba Shapiro-Wilk:\n",
      "Grupo A: Estadístico = 0.9267, p-valor = 0.5552\n",
      "Grupo B: Estadístico = 0.8948, p-valor = 0.3439\n",
      "Los datos del Grupo A son normales.\n",
      "Los datos del Grupo B son normales.\n",
      "\n",
      "Prueba Mann-Whitney U:\n",
      "Estadístico U = 17.0000, p-valor = 0.9372\n",
      "No rechazamos la hipótesis nula: no hay evidencia suficiente para afirmar una diferencia entre las medianas.\n"
     ]
    }
   ],
   "source": [
    "import seaborn as sns\n",
    "from scipy.stats import shapiro, mannwhitneyu, norm, probplot\n",
    "\n",
    "plt.figure(figsize=(12, 6))\n",
    "\n",
    "plt.subplot(2, 2, 1)\n",
    "sns.histplot(grupo_a, kde=True, color=\"blue\", bins=4)\n",
    "plt.title(\"Histograma Grupo A\")\n",
    "plt.subplot(2, 2, 2)\n",
    "probplot(grupo_a, dist=\"norm\", plot=plt)\n",
    "plt.title(\"Q-Q Plot Grupo A\")\n",
    "\n",
    "plt.subplot(2, 2, 3)\n",
    "sns.histplot(grupo_b, kde=True, color=\"orange\", bins=4)\n",
    "plt.title(\"Histograma Grupo B\")\n",
    "plt.subplot(2, 2, 4)\n",
    "probplot(grupo_b, dist=\"norm\", plot=plt)\n",
    "plt.title(\"Q-Q Plot Grupo B\")\n",
    "\n",
    "plt.tight_layout()\n",
    "plt.show()\n",
    "\n",
    "# Pruebas de normalidad (Shapiro-Wilk)\n",
    "stat_a, p_a = shapiro(grupo_a)\n",
    "stat_b, p_b = shapiro(grupo_b)\n",
    "\n",
    "print(\"Prueba Shapiro-Wilk:\")\n",
    "print(f\"Grupo A: Estadístico = {stat_a:.4f}, p-valor = {p_a:.4f}\")\n",
    "print(f\"Grupo B: Estadístico = {stat_b:.4f}, p-valor = {p_b:.4f}\")\n",
    "\n",
    "alpha = 0.05\n",
    "if p_a < alpha:\n",
    "    print(\"Los datos del Grupo A no son normales.\")\n",
    "else:\n",
    "    print(\"Los datos del Grupo A son normales.\")\n",
    "\n",
    "if p_b < alpha:\n",
    "    print(\"Los datos del Grupo B no son normales.\")\n",
    "else:\n",
    "    print(\"Los datos del Grupo B son normales.\")\n",
    "\n",
    "# --- b) Prueba no paramétrica para las medianas ---\n",
    "# Mann-Whitney U test\n",
    "stat_u, p_u = mannwhitneyu(grupo_a, grupo_b, alternative=\"two-sided\")\n",
    "\n",
    "print(\"\\nPrueba Mann-Whitney U:\")\n",
    "print(f\"Estadístico U = {stat_u:.4f}, p-valor = {p_u:.4f}\")\n",
    "\n",
    "if p_u < alpha:\n",
    "    print(\"Rechazamos la hipótesis nula: hay una diferencia significativa entre las medianas.\")\n",
    "else:\n",
    "    print(\"No rechazamos la hipótesis nula: no hay evidencia suficiente para afirmar una diferencia entre las medianas.\")"
   ]
  },
  {
   "cell_type": "code",
   "execution_count": null,
   "id": "7367fc74-5746-4640-b2d0-5324f88e3be6",
   "metadata": {},
   "outputs": [],
   "source": []
  },
  {
   "cell_type": "code",
   "execution_count": null,
   "id": "7b392471-e52e-47e9-a7bd-9b27c1300593",
   "metadata": {},
   "outputs": [],
   "source": []
  }
 ],
 "metadata": {
  "kernelspec": {
   "display_name": "Python 3 (ipykernel)",
   "language": "python",
   "name": "python3"
  },
  "language_info": {
   "codemirror_mode": {
    "name": "ipython",
    "version": 3
   },
   "file_extension": ".py",
   "mimetype": "text/x-python",
   "name": "python",
   "nbconvert_exporter": "python",
   "pygments_lexer": "ipython3",
   "version": "3.9.19"
  }
 },
 "nbformat": 4,
 "nbformat_minor": 5
}
